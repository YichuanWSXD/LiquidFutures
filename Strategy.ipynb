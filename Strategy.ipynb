{
 "cells": [
  {
   "cell_type": "code",
   "execution_count": 1,
   "metadata": {},
   "outputs": [],
   "source": [
    "import quandl\n",
    "from sklearn.model_selection import train_test_split\n",
    "import datetime \n",
    "import numpy as np,pandas as pd\n",
    "import sklearn\n",
    "import sklearn.decomposition as decomposition\n",
    "from sklearn.ensemble import RandomForestClassifier \n",
    "from sklearn.linear_model import LogisticRegression \n",
    "from sklearn.metrics import confusion_matrix \n",
    "import statsmodels.api as sm\n",
    "from sklearn.preprocessing import StandardScaler\n",
    "from collections import Counter\n",
    "import matplotlib.pylab as plt\n",
    "import matplotlib.dates as mdates\n",
    "from sklearn import preprocessing"
   ]
  },
  {
   "cell_type": "code",
   "execution_count": 2,
   "metadata": {},
   "outputs": [],
   "source": [
    "#load data\n",
    "df = pd.read_csv('input/US.csv',index_col=0,parse_dates=True)\n",
    "df = df['2001':]\n",
    "df_spx = pd.read_csv('input/SPX.csv',index_col=0,parse_dates=True)\n",
    "df_libor = pd.read_csv('input/libor.csv',index_col=0,parse_dates=True)\n",
    "df_libor[df_libor=='.']=np.nan\n",
    "df_libor = df_libor.astype(float).dropna()\n",
    "\n"
   ]
  },
  {
   "cell_type": "code",
   "execution_count": 3,
   "metadata": {},
   "outputs": [],
   "source": [
    "#Modeling:\n",
    "def resample_month(df):\n",
    "    return df.resample('BMS',label='left').first()\n",
    "def simulation(df,signal):\n",
    "    rt = pd.Series(index =df.index)\n",
    "    equity = 1\n",
    "    balance_list = list(signal.index)\n",
    "    position = 0\n",
    "    for index,row in pd.DataFrame(df).iterrows(): #assume df is a serie/\n",
    "        current = 0 if pd.isna(row[0]) else row[0]\n",
    "        if balance_list == []:\n",
    "            break\n",
    "        if index>=balance_list[0]:\n",
    "            position = signal[balance_list.pop(0)]\n",
    "    #         print(balance_list[0],len(balance_list))\n",
    "        if position == 0:\n",
    "            rt[index]=equity\n",
    "            continue\n",
    "        equity = equity  * (1+current* position)\n",
    "        rt[index]=equity\n",
    "    return rt\n",
    "#Performance\n",
    "Rf = .0151\n",
    "def create_sharpe_ratio(returns, periods=252):\n",
    "    \"\"\"\n",
    "    Create the Sharpe ratio for the strategy, based on a \n",
    "    benchmark of zero (i.e. no risk-free rate information).\n",
    "\n",
    "    Parameters:\n",
    "    returns - A pandas Series representing period percentage returns.\n",
    "    periods - Daily (252), Hourly (252*6.5), Minutely(252*6.5*60) etc.\n",
    "    \"\"\"\n",
    "    \n",
    "    return np.sqrt(periods) * (np.mean(returns)-Rf/periods) / np.std(returns)\n",
    "\n",
    "\n",
    "def create_drawdowns(pnl):\n",
    "    \"\"\"\n",
    "    Calculate the largest peak-to-trough drawdown of the PnL curve\n",
    "    as well as the duration of the drawdown. Requires that the \n",
    "    pnl_returns is a pandas Series.\n",
    "\n",
    "    Parameters:\n",
    "    pnl - A pandas Series representing period percentage returns.\n",
    "\n",
    "    Returns:\n",
    "    drawdown, duration - Highest peak-to-trough drawdown and duration.\n",
    "    \"\"\"\n",
    "\n",
    "    # Calculate the cumulative returns curve \n",
    "    # and set up the High Water Mark\n",
    "    hwm = [0]\n",
    "\n",
    "    # Create the drawdown and duration series\n",
    "    idx = pnl.index\n",
    "    drawdown = pd.Series(index = idx)\n",
    "    duration = pd.Series(index = idx)\n",
    "\n",
    "    # Loop over the index range\n",
    "    for t in range(1, len(idx)):\n",
    "        hwm.append(max(hwm[t-1], pnl[t]))\n",
    "        drawdown[t]= (hwm[t]-pnl[t])/hwm[t]\n",
    "        duration[t]= (0 if drawdown[t] == 0 else duration[t-1]+1)\n",
    "    return drawdown, drawdown.max(), duration.max()\n",
    "\n",
    "def create_sortina(equity,periods = 252):\n",
    "\n",
    "    '''\n",
    "    sortino is an adjusted ratio which only takes the \n",
    "    standard deviation of negative returns into account\n",
    "    '''\n",
    "    ret = equity.pct_change().dropna()\n",
    "    adj_ret = ret-Rf/252\n",
    "    avg_ret = np.mean(ret)\n",
    "\n",
    "    # Take all negative returns.\n",
    "    neg_ret = [a ** 2 for a in adj_ret if a < 0]\n",
    "    # Sum it.\n",
    "    neg_ret_sum = np.sum(neg_ret)\n",
    "    # And calculate downside risk as second order lower partial moment.\n",
    "    down_risk = np.sqrt(periods*neg_ret_sum / len(ret))\n",
    "\n",
    "    if down_risk > 0.0001:\n",
    "        sortino = avg_ret / down_risk\n",
    "    else:\n",
    "        sortino = 0\n",
    "\n",
    "    return sortino"
   ]
  },
  {
   "cell_type": "code",
   "execution_count": 4,
   "metadata": {
    "scrolled": true
   },
   "outputs": [],
   "source": [
    "# Insert 30-year treasury, sp500 and libor into the grand dataframe.\n",
    "grand_df = pd.DataFrame()\n",
    "grand_df['US'] = resample_month(df)['Last'].pct_change()\n",
    "grand_df['SPX'] = resample_month(df_spx)['Last']\n",
    "grand_df['LIBOR'] = resample_month(df_libor)['USD3MTD156N']\n",
    "# y is the treasury price in the following month.\n",
    "grand_df['y'] = 1\n",
    "grand_df['return']=grand_df['US'].shift(-1)\n",
    "grand_df.loc[grand_df['return']<0,'y']=-1\n",
    "grand_df.dropna(inplace=True)\n",
    "#grand_df[['US','SPX','LIBOR']]=preprocessing.scale(grand_df[['US','SPX','LIBOR']])\n"
   ]
  },
  {
   "cell_type": "code",
   "execution_count": 5,
   "metadata": {},
   "outputs": [],
   "source": [
    "grand_df_train = grand_df[:'2010']\n",
    "grand_df_test = grand_df['2011':]"
   ]
  },
  {
   "cell_type": "code",
   "execution_count": 6,
   "metadata": {
    "scrolled": true
   },
   "outputs": [],
   "source": [
    "X_train, X_test, y_train, y_test = train_test_split(grand_df_train[['US','SPX','LIBOR']], \n",
    "                     grand_df_train['y'], test_size=.5,shuffle=False)\n"
   ]
  },
  {
   "cell_type": "code",
   "execution_count": 7,
   "metadata": {},
   "outputs": [
    {
     "name": "stdout",
     "output_type": "stream",
     "text": [
      "LR:\n",
      "0.525\n",
      "SVR:\n",
      "0.163\n",
      "SVC:\n",
      "0.763\n",
      "RF:\n",
      "1.000\n"
     ]
    }
   ],
   "source": [
    "# Prepare 4 Models in the tuple of the format (model name, model)\n",
    "models = [(\"LR\", sklearn.linear_model.LogisticRegression()),\n",
    "(\"SVR\", sklearn.svm.SVR(\n",
    "C=1000000.0, cache_size=200, coef0=0.0, degree=3, gamma=0.0001, kernel='rbf',\n",
    "max_iter=-1,\n",
    "  shrinking=True, tol=0.001, verbose=False)),\n",
    "(\"SVC\", sklearn.svm.SVC(\n",
    "C=1000000.0, cache_size=200, class_weight=None, coef0=0.0, degree=3, gamma=0.0001, kernel='rbf',\n",
    "max_iter=-1, probability=False, random_state=None,\n",
    "  shrinking=True, tol=0.001, verbose=False)\n",
    "),\n",
    "(\"RF\", RandomForestClassifier(\n",
    "  n_estimators=1000, criterion='gini',\n",
    "  max_depth=None, min_samples_split=2,\n",
    "min_samples_leaf=1, max_features='auto',\n",
    "            bootstrap=True, oob_score=False, n_jobs=1,\n",
    "            random_state=None, verbose=0)\n",
    ")]\n",
    "\n",
    "for m in models:\n",
    "    # Train each of the models on the training set\n",
    "    m[1].fit(X_train, y_train)\n",
    "    pred = m[1].predict(X_test)\n",
    "    pred_train = m[1].predict(X_train)\n",
    "    # Output the hit-rate and the confusion matrix for each model\n",
    "    print(\"%s:\\n%0.3f\" % (m[0], m[1].score(X_train, y_train))) \n",
    "#     print(\"%s\\n\" % confusion_matrix(pred, y_test))"
   ]
  },
  {
   "cell_type": "code",
   "execution_count": 8,
   "metadata": {},
   "outputs": [
    {
     "data": {
      "image/png": "[encoded data removed]",
      "text/plain": [
       "<matplotlib.figure.Figure at 0x1c0d6446a0>"
      ]
     },
     "metadata": {
      "needs_background": "light"
     },
     "output_type": "display_data"
    }
   ],
   "source": [
    "fig = plt.figure()\n",
    "fig.suptitle('Returns On 30y T-bill Futures', fontsize=14, fontweight='bold')\n",
    "\n",
    "ax = fig.add_subplot(111)\n",
    "fig.subplots_adjust(top=0.85)\n",
    "ax.set_title('Machine Learning Examples')\n",
    "\n",
    "list_results = list()\n",
    "for i in range(len(models)):\n",
    "    signal = models[i][1].predict(grand_df.iloc[:,:3]) #Use the model to find signals\n",
    "    signal[signal>0]=1\n",
    "    signal[signal<0]=-1\n",
    "    signal = pd.Series(signal,index=grand_df.index)\n",
    "    #simulation function performs backtest\n",
    "    list_results.append(simulation(df.pct_change(),signal))\n",
    "    list_results[i].plot()\n",
    "plt.axvline(x='2011')\n",
    "plt.axvline(x=X_test.index[0])\n",
    "plt.legend(list(map(lambda x: x[0],models)),loc=3);\n",
    "plt.ylabel('Equity');\n",
    "x = datetime.datetime(2003,1,1)\n",
    "y = datetime.datetime(2009,1,1)\n",
    "z = datetime.datetime(2016,1,1)\n",
    "ax.annotate('ML_train', (mdates.date2num(x), 3), xytext=(0, 30), \n",
    "            textcoords='offset points', arrowprops=dict(arrowstyle='->'));\n",
    "ax.annotate('ML_test', (mdates.date2num(y), 3), xytext=(0, 30), \n",
    "            textcoords='offset points', arrowprops=dict(arrowstyle='->'));\n",
    "ax.annotate('Backtest', (mdates.date2num(z), 3), xytext=(0, 30), \n",
    "            textcoords='offset points', arrowprops=dict(arrowstyle='->'));\n",
    "plt.savefig('Returns')"
   ]
  },
  {
   "cell_type": "code",
   "execution_count": 9,
   "metadata": {},
   "outputs": [
    {
     "name": "stdout",
     "output_type": "stream",
     "text": [
      "----------------------------------------LR----------------------------------------\n",
      "Sharpe: 0.1280 Sortina: 0.0016 max drowdown: 0.2268 drowdown duration: 669.0\n",
      "----------------------------------------SVR----------------------------------------\n",
      "Sharpe: -0.3179 Sortina: -0.0009 max drowdown: 0.3218 drowdown duration: 1989.0\n",
      "----------------------------------------SVC----------------------------------------\n",
      "Sharpe: -0.1649 Sortina: -0.0001 max drowdown: 0.3020 drowdown duration: 1259.0\n",
      "----------------------------------------RF----------------------------------------\n",
      "Sharpe: -0.5878 Sortina: -0.0023 max drowdown: 0.3785 drowdown duration: 1989.0\n"
     ]
    }
   ],
   "source": [
    "for i in range(len(list_results)):\n",
    "    equity = list_results[i]['2011':].dropna()\n",
    "    sharpe = create_sharpe_ratio(equity.pct_change())\n",
    "    sortina = create_sortina(equity)\n",
    "    drawdown, max_dd, dd_duration = create_drawdowns(equity)\n",
    "    print(f'----------------------------------------{models[i][0]}----------------------------------------')\n",
    "    print(f'Sharpe: {sharpe:.4f} Sortina: {sortina:.4f} max drowdown: {max_dd:.4f} drowdown duration: {dd_duration}')"
   ]
  }
 ],
 "metadata": {
  "kernelspec": {
   "display_name": "Python 3",
   "language": "python",
   "name": "python3"
  },
  "language_info": {
   "codemirror_mode": {
    "name": "ipython",
    "version": 3
   },
   "file_extension": ".py",
   "mimetype": "text/x-python",
   "name": "python",
   "nbconvert_exporter": "python",
   "pygments_lexer": "ipython3",
   "version": "3.6.3"
  }
 },
 "nbformat": 4,
 "nbformat_minor": 2
}
